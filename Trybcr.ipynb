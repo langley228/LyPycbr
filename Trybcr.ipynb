{
 "cells": [
  {
   "cell_type": "code",
   "execution_count": 1,
   "metadata": {},
   "outputs": [
    {
     "name": "stdout",
     "output_type": "stream",
     "text": [
      "AED 阿拉伯聯合大公國迪拉姆\r\n",
      "ARS 阿根廷披索\r\n",
      "AUD 澳幣\r\n",
      "BGN 保加利亞列弗\r\n",
      "BND 汶萊元\r\n",
      "BOB 玻利維亞幣\r\n",
      "BRL 巴西雷亞爾\r\n",
      "CAD 加幣\r\n",
      "CHF 瑞士法郎\r\n",
      "CLP 智利披索\r\n",
      "CNY 中國人民幣\r\n",
      "COP 哥倫比亞披索\r\n",
      "CZK 捷克克郎\r\n",
      "DKK 丹麥克朗\r\n",
      "EGP 埃及鎊\r\n",
      "EUR 歐元\r\n",
      "FJD 斐濟元\r\n",
      "GBP 英鎊\r\n",
      "HKD 港幣\r\n",
      "HRK 克羅埃西亞克朗\r\n",
      "HUF 匈牙利福林\r\n",
      "IDR 印尼盧比\r\n",
      "ILS 以色列新舍克\r\n",
      "INR 印度盧比\r\n",
      "JPY 日圓\r\n",
      "KES 肯亞先令\r\n",
      "KRW 韓元\r\n",
      "LTL 立陶宛利塔斯\r\n",
      "MAD 摩洛哥迪拉姆\r\n",
      "MXN 墨西哥披索\r\n",
      "MYR 馬來西亞林吉特\r\n",
      "NOK 挪威克朗\r\n",
      "NZD 紐西蘭幣\r\n",
      "PEN 祕魯幣\r\n",
      "PHP 菲律賓披索\r\n",
      "PKR 巴基斯坦盧比\r\n",
      "PLN 波蘭茲羅提\r\n",
      "RON 羅馬尼亞列伊\r\n",
      "RSD 塞爾維亞第納爾\r\n",
      "RUB 俄羅斯盧布\r\n",
      "SAR 沙烏地阿拉伯里亞爾\r\n",
      "SEK 瑞典克朗\r\n",
      "SGD 新加坡幣\r\n",
      "THB 泰銖\r\n",
      "TRY 土耳其里拉\r\n",
      "TWD 新臺幣\r\n",
      "UAH 烏克蘭赫里納\r\n",
      "USD 美元\r\n",
      "VEF 委內瑞拉銀幣\r\n",
      "VND 越南盾\r\n",
      "ZAR 南非蘭特\n"
     ]
    }
   ],
   "source": [
    "\n",
    "import bcr\n",
    "\n",
    "#查詢幣別代碼\n",
    "bcr.printcurrs()\n"
   ]
  },
  {
   "cell_type": "code",
   "execution_count": 2,
   "metadata": {},
   "outputs": [
    {
     "name": "stdout",
     "output_type": "stream",
     "text": [
      "TWD 新臺幣 vs SGD 新加坡幣\n",
      "銀行       類型       買入匯率  賣出匯率 \n",
      "台灣銀行   現金       21.72      22.5      \n",
      "台灣銀行   即期       22.14      22.32     \n",
      "台灣企銀   即期       22.1200    22.3000   \n"
     ]
    }
   ],
   "source": [
    "#查詢新加坡幣匯率\n",
    "ff=bcr.findRate('SGD')"
   ]
  },
  {
   "cell_type": "code",
   "execution_count": null,
   "metadata": {
    "collapsed": true
   },
   "outputs": [],
   "source": []
  }
 ],
 "metadata": {
  "kernelspec": {
   "display_name": "Python 3",
   "language": "python",
   "name": "python3"
  },
  "language_info": {
   "codemirror_mode": {
    "name": "ipython",
    "version": 3
   },
   "file_extension": ".py",
   "mimetype": "text/x-python",
   "name": "python",
   "nbconvert_exporter": "python",
   "pygments_lexer": "ipython3",
   "version": "3.6.1"
  }
 },
 "nbformat": 4,
 "nbformat_minor": 2
}
